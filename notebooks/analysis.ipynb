{
 "cells": [
  {
   "cell_type": "code",
   "execution_count": null,
   "id": "4cb33d1b-5916-4bca-9345-fcfec99ed0f2",
   "metadata": {},
   "outputs": [],
   "source": [
    "import pandas as pd\n",
    "import matplotlib.pyplot as plt\n",
    "import seaborn as sns\n",
    "from matplotlib.dates import DateFormatter\n",
    "\n",
    "# Load merged dataset\n",
    "df = pd.read_csv(\"../data/merged_data.csv\", parse_dates=[\"Date\"])\n",
    "df.head()"
   ]
  },
  {
   "cell_type": "code",
   "execution_count": null,
   "id": "2333789a-cf5a-4b1e-bb43-27f28acd12ba",
   "metadata": {},
   "outputs": [],
   "source": [
    "fig, ax1 = plt.subplots(figsize=(12,6))\n",
    "\n",
    "ax1.set_title(\"Stock Price vs Average Sentiment\")\n",
    "ax1.set_xlabel(\"Date\")\n",
    "ax1.set_ylabel(\"Close Price\", color=\"blue\")\n",
    "ax1.plot(df['Date'], df['Close'], color='blue', label='Close Price')\n",
    "\n",
    "ax2 = ax1.twinx()\n",
    "ax2.set_ylabel(\"Avg Sentiment\", color=\"green\")\n",
    "ax2.plot(df['Date'], df['avg_sentiment'], color='green', linestyle='--', label='Avg Sentiment')\n",
    "\n",
    "fig.tight_layout()\n",
    "plt.show()"
   ]
  },
  {
   "cell_type": "code",
   "execution_count": null,
   "id": "0bacc744-f4c9-4aa5-97e8-80a503f53353",
   "metadata": {},
   "outputs": [],
   "source": [
    "plt.figure(figsize=(12,6))\n",
    "plt.plot(df['Date'], df['Close'], label='Close Price', color='gray')\n",
    "\n",
    "buy_signals = df[df['signal'] == 'Buy']\n",
    "sell_signals = df[df['signal'] == 'Sell']\n",
    "\n",
    "plt.scatter(buy_signals['Date'], buy_signals['Close'], marker='^', color='green', label='Buy Signal', s=100)\n",
    "plt.scatter(sell_signals['Date'], sell_signals['Close'], marker='v', color='red', label='Sell Signal', s=100)\n",
    "\n",
    "plt.title(\"Buy/Sell Signals Based on Sentiment\")\n",
    "plt.xlabel(\"Date\")\n",
    "plt.ylabel(\"Price\")\n",
    "plt.legend()\n",
    "plt.grid(True)\n",
    "plt.show()\n"
   ]
  },
  {
   "cell_type": "code",
   "execution_count": null,
   "id": "a2081f8c-7352-48ce-8296-57e4a8207946",
   "metadata": {},
   "outputs": [],
   "source": [
    "sns.histplot(df['avg_sentiment'], kde=True, bins=30)\n",
    "plt.title(\"Distribution of Daily Average Sentiment\")\n",
    "plt.xlabel(\"Sentiment Score\")\n",
    "plt.show()\n"
   ]
  },
  {
   "cell_type": "code",
   "execution_count": null,
   "id": "324404d2-5f75-43d7-8f6c-e55421212ea7",
   "metadata": {},
   "outputs": [],
   "source": [
    "df['daily_return'] = df['Close'].pct_change()\n",
    "df['strategy_return'] = df['daily_return'] * df['signal'].map({'Buy': 1, 'Sell': -1, 'Hold': 0}).shift(1)\n",
    "\n",
    "df[['daily_return', 'strategy_return']].cumsum().plot(figsize=(10, 5), title=\"Cumulative Returns\")\n",
    "plt.grid(True)\n",
    "plt.show()\n"
   ]
  },
  {
   "cell_type": "code",
   "execution_count": null,
   "id": "aedab88f-0f90-48d8-b627-c8e5b982fb62",
   "metadata": {},
   "outputs": [],
   "source": []
  }
 ],
 "metadata": {
  "kernelspec": {
   "display_name": "Python 3 (ipykernel)",
   "language": "python",
   "name": "python3"
  },
  "language_info": {
   "codemirror_mode": {
    "name": "ipython",
    "version": 3
   },
   "file_extension": ".py",
   "mimetype": "text/x-python",
   "name": "python",
   "nbconvert_exporter": "python",
   "pygments_lexer": "ipython3",
   "version": "3.12.4"
  }
 },
 "nbformat": 4,
 "nbformat_minor": 5
}
